{
 "cells": [
  {
   "cell_type": "code",
   "execution_count": 3,
   "id": "61ef7105-973f-4146-9176-a145a39318cd",
   "metadata": {},
   "outputs": [],
   "source": [
    "import numpy as np"
   ]
  },
  {
   "cell_type": "code",
   "execution_count": 8,
   "id": "86169bf0-6f68-4878-92a7-cc799259105e",
   "metadata": {},
   "outputs": [
    {
     "data": {
      "text/plain": [
       "array([ 1,  2,  3,  4,  5,  6,  7,  8,  9, 10])"
      ]
     },
     "execution_count": 8,
     "metadata": {},
     "output_type": "execute_result"
    }
   ],
   "source": [
    "arr = np.arange(1, 11, dtype=int)\n",
    "arr"
   ]
  },
  {
   "cell_type": "code",
   "execution_count": 11,
   "id": "c1e3ce07-630f-4791-b4d9-43faa2db1377",
   "metadata": {},
   "outputs": [
    {
     "data": {
      "text/plain": [
       "array([[0, 0, 0],\n",
       "       [0, 0, 0],\n",
       "       [0, 0, 0]])"
      ]
     },
     "execution_count": 11,
     "metadata": {},
     "output_type": "execute_result"
    }
   ],
   "source": [
    "m = np.zeros((3, 3), dtype=int)\n",
    "m"
   ]
  },
  {
   "cell_type": "code",
   "execution_count": 13,
   "id": "53621b6a-dd55-49c8-ac12-31906b817420",
   "metadata": {},
   "outputs": [
    {
     "data": {
      "text/plain": [
       "array([[ 2,  6,  6,  1,  6],\n",
       "       [ 5,  3,  9,  1,  1],\n",
       "       [ 7,  1, 10,  5,  4],\n",
       "       [ 8,  9,  3,  7,  8],\n",
       "       [ 9,  3,  1,  2,  7]], dtype=int32)"
      ]
     },
     "execution_count": 13,
     "metadata": {},
     "output_type": "execute_result"
    }
   ],
   "source": [
    "array = np.random.randint(1, 11, size=(5, 5))\n",
    "array"
   ]
  },
  {
   "cell_type": "code",
   "execution_count": 15,
   "id": "cf92ef1a-f630-4638-b262-62c44d9309a4",
   "metadata": {},
   "outputs": [
    {
     "data": {
      "text/plain": [
       "array([[0.4804534 , 0.10095326, 0.67740793, 0.53553018],\n",
       "       [0.86247051, 0.66223081, 0.69942355, 0.46140922],\n",
       "       [0.08567421, 0.3899401 , 0.9697149 , 0.70743208],\n",
       "       [0.94259571, 0.42184564, 0.6170777 , 0.99060188]])"
      ]
     },
     "execution_count": 15,
     "metadata": {},
     "output_type": "execute_result"
    }
   ],
   "source": [
    "array = np.random.rand(4, 4)\n",
    "array"
   ]
  },
  {
   "cell_type": "code",
   "execution_count": 24,
   "id": "04b521c9-cf95-48d3-a597-1df87ad9361a",
   "metadata": {},
   "outputs": [
    {
     "name": "stdout",
     "output_type": "stream",
     "text": [
      "Масив 1: [10  8  4  3  1]\n",
      "Масив 2: [10  3  9  6  1]\n",
      "Додавання масивів: [20 11 13  9  2]\n",
      "Віднімання масивів: [ 0  5 -5 -3  0]\n",
      "Множення масивів: [100  24  36  18   1]\n"
     ]
    }
   ],
   "source": [
    "a = np.random.randint(1, 11, size=5)\n",
    "b = np.random.randint(1, 11, size=5)\n",
    "sum = a+b\n",
    "diff = a-b\n",
    "prod = a*b\n",
    "print(\"Масив 1:\", a)\n",
    "print(\"Масив 2:\", b)\n",
    "print(\"Додавання масивів:\", sum)\n",
    "print(\"Віднімання масивів:\", diff)\n",
    "print(\"Множення масивів:\", prod)"
   ]
  },
  {
   "cell_type": "code",
   "execution_count": 25,
   "id": "1717820f-b2f1-4583-b6b2-9ae491df53b4",
   "metadata": {},
   "outputs": [
    {
     "name": "stdout",
     "output_type": "stream",
     "text": [
      "Вектор 1: [4 4 4 1 7 4 3]\n",
      "Вектор 2: [ 7  2  3  5 10 10  5]\n",
      "Скалярний добуток: 178\n"
     ]
    }
   ],
   "source": [
    "vector1 = np.random.randint(1, 11, size=7)  \n",
    "vector2 = np.random.randint(1, 11, size=7) \n",
    "\n",
    "dot_product = np.dot(vector1, vector2)\n",
    "\n",
    "print(\"Вектор 1:\", vector1)\n",
    "print(\"Вектор 2:\", vector2)\n",
    "print(\"Скалярний добуток:\", dot_product)"
   ]
  },
  {
   "cell_type": "code",
   "execution_count": 30,
   "id": "1d4abf70-1f40-4e88-8ff2-8a83bb0e2ad3",
   "metadata": {},
   "outputs": [
    {
     "name": "stdout",
     "output_type": "stream",
     "text": [
      "Масив 1:\n",
      " [[1 9]\n",
      " [6 4]]\n",
      "Масив 2:\n",
      " [[ 1  5  8]\n",
      " [ 3 10  6]]\n",
      "Перемноження масивів:\n",
      " [[28 95 62]\n",
      " [18 70 72]]\n"
     ]
    }
   ],
   "source": [
    "a = np.random.randint(1, 11, size=(2, 2))\n",
    "b = np.random.randint(1, 11, size=(2, 3))\n",
    "\n",
    "c = np.dot(a, b)\n",
    "\n",
    "print(\"Масив 1:\\n\", a)\n",
    "print(\"Масив 2:\\n\", b)\n",
    "print(\"Перемноження масивів:\\n\", c)"
   ]
  },
  {
   "cell_type": "code",
   "execution_count": 37,
   "id": "576e8588-c3fa-45f0-84ac-b21caad1543c",
   "metadata": {},
   "outputs": [
    {
     "name": "stdout",
     "output_type": "stream",
     "text": [
      "Матриця:\n",
      " [[5 6 7]\n",
      " [8 5 4]\n",
      " [3 1 2]]\n",
      "Обернена матриця:\n",
      " [[-0.13953488  0.11627907  0.25581395]\n",
      " [ 0.09302326  0.25581395 -0.8372093 ]\n",
      " [ 0.1627907  -0.30232558  0.53488372]]\n"
     ]
    }
   ],
   "source": [
    "a = np.random.randint(1, 11, size=(3, 3))\n",
    "\n",
    "if np.linalg.det(a) != 0:\n",
    "    b = np.linalg.inv(a)\n",
    "    print(\"Матриця:\\n\", a)\n",
    "    print(\"Обернена матриця:\\n\", b)\n",
    "else:\n",
    "    print(\"Матриця не має оберненої, оскільки її визначник дорівнює 0.\")"
   ]
  },
  {
   "cell_type": "code",
   "execution_count": 38,
   "id": "a46fb646-2bc8-49cb-b31e-d4123b41299d",
   "metadata": {},
   "outputs": [
    {
     "name": "stdout",
     "output_type": "stream",
     "text": [
      "Матриця:\n",
      " [[ 1  9  7  9]\n",
      " [ 6  6  9  5]\n",
      " [ 2  2  3  4]\n",
      " [ 2 10  5  9]]\n",
      "Транспонована матриця:\n",
      " [[ 1  6  2  2]\n",
      " [ 9  6  2 10]\n",
      " [ 7  9  3  5]\n",
      " [ 9  5  4  9]]\n"
     ]
    }
   ],
   "source": [
    "a = np.random.randint(1, 11, size=(4, 4))\n",
    "b = a.T\n",
    "print(\"Матриця:\\n\", a)\n",
    "print(\"Транспонована матриця:\\n\", b)"
   ]
  },
  {
   "cell_type": "code",
   "execution_count": 40,
   "id": "46348fc9-2e4a-423d-8981-9ee9d8aeba85",
   "metadata": {},
   "outputs": [
    {
     "name": "stdout",
     "output_type": "stream",
     "text": [
      "Матриця:\n",
      " [[10  7  3  4]\n",
      " [ 8  1  1  9]\n",
      " [ 6  3  8  8]]\n",
      "Вектор:\n",
      " [9 5 7 4]\n",
      "Результат перемноження матриці і вектора:\n",
      " [162 120 157]\n"
     ]
    }
   ],
   "source": [
    "a = np.random.randint(1, 11, size=(3, 4))\n",
    "b = np.random.randint(1, 11, size=4)\n",
    "с = np.dot(a, b)\n",
    "print(\"Матриця:\\n\", a)\n",
    "print(\"Вектор:\\n\", b)\n",
    "print(\"Результат перемноження матриці і вектора:\\n\", с)"
   ]
  },
  {
   "cell_type": "code",
   "execution_count": 42,
   "id": "f441060d-d073-46a4-90d8-92a1f6793b3f",
   "metadata": {},
   "outputs": [
    {
     "name": "stdout",
     "output_type": "stream",
     "text": [
      "Матриця:\n",
      " [[0.65748558 0.40385213 0.53826469]\n",
      " [0.78919946 0.93368858 0.42901082]]\n",
      "Вектор:\n",
      " [0.7307022  0.78906686 0.65153944]\n",
      "Результат перемноження матриці і вектора:\n",
      " [1.14979317 1.59292996]\n"
     ]
    }
   ],
   "source": [
    "a = np.random.rand(2, 3)\n",
    "b = np.random.rand(3)\n",
    "с = np.dot(a, b)\n",
    "print(\"Матриця:\\n\", a)\n",
    "print(\"Вектор:\\n\", b)\n",
    "print(\"Результат перемноження матриці і вектора:\\n\", с)"
   ]
  },
  {
   "cell_type": "code",
   "execution_count": 48,
   "id": "1566d70c-c537-481f-a6e7-1759eaa99c4a",
   "metadata": {},
   "outputs": [
    {
     "name": "stdout",
     "output_type": "stream",
     "text": [
      "Матриця:\n",
      " [[2 4]\n",
      " [5 3]]\n",
      "Вектор:\n",
      " [[ 4 10]\n",
      " [ 1  8]]\n",
      "Результат поелементного перемноження матриць:\n",
      " [[ 8 40]\n",
      " [ 5 24]]\n"
     ]
    }
   ],
   "source": [
    "a = np.random.randint(1, 11, size=(2, 2))\n",
    "b = np.random.randint(1, 11, size=(2, 2))\n",
    "с = a * b\n",
    "print(\"Матриця 1:\\n\", a)\n",
    "print(\"Матриця 2:\\n\", b)\n",
    "print(\"Результат поелементного перемноження матриць:\\n\", с)"
   ]
  },
  {
   "cell_type": "code",
   "execution_count": 49,
   "id": "ec358775-d794-4c78-845a-7edc7e88867c",
   "metadata": {},
   "outputs": [
    {
     "name": "stdout",
     "output_type": "stream",
     "text": [
      "Матриця:\n",
      " [[ 4 10]\n",
      " [ 6  1]]\n",
      "Вектор:\n",
      " [[3 5]\n",
      " [2 4]]\n",
      "Результат добутку матриць:\n",
      " [[32 60]\n",
      " [20 34]]\n"
     ]
    }
   ],
   "source": [
    "a = np.random.randint(1, 11, size=(2, 2))\n",
    "b = np.random.randint(1, 11, size=(2, 2))\n",
    "c = np.dot(a, b)\n",
    "print(\"Матриця 1:\\n\", a)\n",
    "print(\"Матриця 2:\\n\", b)\n",
    "print(\"Результат добутку матриць:\\n\", c)"
   ]
  },
  {
   "cell_type": "code",
   "execution_count": 50,
   "id": "446b4abf-8a66-4520-aab7-030224f53a0f",
   "metadata": {},
   "outputs": [
    {
     "name": "stdout",
     "output_type": "stream",
     "text": [
      "Матриця:\n",
      " [[ 90   8  86  56  86]\n",
      " [  9  11  94  15  87]\n",
      " [ 32  66  23 100  59]\n",
      " [ 12  54  85  72  73]\n",
      " [ 31 100 100  63  93]]\n",
      "Результат добутку матриць:\n",
      " 1505\n"
     ]
    }
   ],
   "source": [
    "a = np.random.randint(1, 101, size=(5, 5))\n",
    "c = np.sum(a)\n",
    "print(\"Матриця:\\n\", a)\n",
    "print(\"Сума елементів матриці:\\n\", c)"
   ]
  },
  {
   "cell_type": "code",
   "execution_count": 51,
   "id": "ad506a46-94fe-4c4b-a19b-f3bda07690f1",
   "metadata": {},
   "outputs": [
    {
     "name": "stdout",
     "output_type": "stream",
     "text": [
      "Матриця 1:\n",
      " [[1 7 1 7]\n",
      " [8 4 5 2]\n",
      " [9 5 9 4]\n",
      " [6 8 4 3]]\n",
      "Матриця 2:\n",
      " [[ 5 10  8  8]\n",
      " [ 6  3  4  7]\n",
      " [ 2  1  5  9]\n",
      " [ 2  3  9  9]]\n",
      "Результат поелементного перемноження матриць:\n",
      " [[-4 -3 -7 -1]\n",
      " [ 2  1  1 -5]\n",
      " [ 7  4  4 -5]\n",
      " [ 4  5 -5 -6]]\n"
     ]
    }
   ],
   "source": [
    "a = np.random.randint(1, 11, size=(4, 4))\n",
    "b = np.random.randint(1, 11, size=(4, 4))\n",
    "с = a - b\n",
    "print(\"Матриця 1:\\n\", a)\n",
    "print(\"Матриця 2:\\n\", b)\n",
    "print(\"Різниця матриць:\\n\", с)"
   ]
  },
  {
   "cell_type": "code",
   "execution_count": 52,
   "id": "ad978e4f-4076-4e3b-90d1-9af8987ef2e2",
   "metadata": {},
   "outputs": [
    {
     "name": "stdout",
     "output_type": "stream",
     "text": [
      "Матриця:\n",
      " [[0.20721762 0.8309799  0.86712342]\n",
      " [0.20643155 0.80242473 0.27984963]\n",
      " [0.18729065 0.2517547  0.54016097]]\n",
      "Вектор:\n",
      " [1.90532093 1.28870591 0.97920633]\n"
     ]
    }
   ],
   "source": [
    "a = np.random.rand(3, 3)\n",
    "b = np.sum(a, axis=1)\n",
    "print(\"Матриця:\\n\", a)\n",
    "print(\"Вектор:\\n\", b)"
   ]
  },
  {
   "cell_type": "code",
   "execution_count": 53,
   "id": "f5a76f54-5c29-4ab8-b85e-27fc69c2449e",
   "metadata": {},
   "outputs": [
    {
     "name": "stdout",
     "output_type": "stream",
     "text": [
      "Матриця 1:\n",
      " [[10  8  7  5]\n",
      " [ 2  7  2  6]\n",
      " [ 1  9  2  1]]\n",
      "Матриця 2:\n",
      " [[100  64  49  25]\n",
      " [  4  49   4  36]\n",
      " [  1  81   4   1]]\n"
     ]
    }
   ],
   "source": [
    "a = np.random.randint(1, 11, size=(3, 4)) \n",
    "b = np.square(a)\n",
    "print(\"Матриця :\\n\", a)\n",
    "print(\"Матриця з елементами к квадраті:\\n\", b)"
   ]
  },
  {
   "cell_type": "code",
   "execution_count": 54,
   "id": "7bd5b655-b455-40c1-90f6-18d2d29356d7",
   "metadata": {},
   "outputs": [
    {
     "name": "stdout",
     "output_type": "stream",
     "text": [
      "Вектор:\n",
      " [36 27 13 12]\n",
      "Вектор з квадратними коренями елементів:\n",
      " [6.         5.19615242 3.60555128 3.46410162]\n"
     ]
    }
   ],
   "source": [
    "a = np.random.randint(1, 51, size=4)\n",
    "b = np.sqrt(a)\n",
    "print(\"Вектор:\\n\", a)\n",
    "print(\"Вектор з квадратними коренями елементів:\\n\", b)"
   ]
  },
  {
   "cell_type": "code",
   "execution_count": null,
   "id": "b1a1fde9-2891-4030-ba2e-af1f09dcf45b",
   "metadata": {},
   "outputs": [],
   "source": []
  }
 ],
 "metadata": {
  "kernelspec": {
   "display_name": "Python 3 (ipykernel)",
   "language": "python",
   "name": "python3"
  },
  "language_info": {
   "codemirror_mode": {
    "name": "ipython",
    "version": 3
   },
   "file_extension": ".py",
   "mimetype": "text/x-python",
   "name": "python",
   "nbconvert_exporter": "python",
   "pygments_lexer": "ipython3",
   "version": "3.13.0"
  }
 },
 "nbformat": 4,
 "nbformat_minor": 5
}
